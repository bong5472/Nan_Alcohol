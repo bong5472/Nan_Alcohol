{
 "cells": [
  {
   "cell_type": "code",
   "execution_count": 1,
   "metadata": {},
   "outputs": [],
   "source": [
    "import pandas as pd\n",
    "\n",
    "df = pd.read_csv('drunk.csv')"
   ]
  },
  {
   "cell_type": "code",
   "execution_count": 2,
   "metadata": {},
   "outputs": [],
   "source": [
    "train = []\n",
    "for column in df.columns:\n",
    "    for i in range(len(df)):\n",
    "        train.append(eval(df[column][0]))"
   ]
  },
  {
   "cell_type": "code",
   "execution_count": 3,
   "metadata": {},
   "outputs": [],
   "source": [
    "train_drunk = []\n",
    "for i in range(1400):\n",
    "    train_drunk.append(train[i:i+100])"
   ]
  },
  {
   "cell_type": "code",
   "execution_count": 4,
   "metadata": {},
   "outputs": [
    {
     "data": {
      "text/plain": [
       "(1400, 100, 32)"
      ]
     },
     "execution_count": 4,
     "metadata": {},
     "output_type": "execute_result"
    }
   ],
   "source": [
    "import numpy as np\n",
    "\n",
    "np.array(train_drunk).shape"
   ]
  },
  {
   "cell_type": "code",
   "execution_count": 5,
   "metadata": {},
   "outputs": [
    {
     "data": {
      "text/plain": [
       "(1400, 100, 32)"
      ]
     },
     "execution_count": 5,
     "metadata": {},
     "output_type": "execute_result"
    }
   ],
   "source": [
    "normal = pd.read_csv('normal.csv').values.tolist()\n",
    "train_normal = []\n",
    "for i in range(1400):\n",
    "    train_normal.append(normal[i:i+100])\n",
    "np.array(train_normal).shape"
   ]
  },
  {
   "cell_type": "code",
   "execution_count": 6,
   "metadata": {},
   "outputs": [
    {
     "data": {
      "text/plain": [
       "(2800, 100, 32)"
      ]
     },
     "execution_count": 6,
     "metadata": {},
     "output_type": "execute_result"
    }
   ],
   "source": [
    "train = train_drunk + train_normal\n",
    "np.array(train).shape"
   ]
  },
  {
   "cell_type": "code",
   "execution_count": 7,
   "metadata": {},
   "outputs": [
    {
     "name": "stdout",
     "output_type": "stream",
     "text": [
      "drunk\n",
      "[0.46418338108882523, 0.5157593123209169, 0.5214899713467048, 0.5214899713467048, 0.0, 0.5100286532951289, 0.44126074498567336, 0.0, 0.5329512893982808, 0.5214899713467048, 0.5616045845272206, 0.5214899713467048, 0.0, 0.5616045845272206, 0.5214899713467048, 0.28653295128939826, 0.6017191977077364, 0.3209169054441261, 0.7163323782234957, 0.0, 0.6017191977077364, 0.2808022922636103, 0.0, 0.664756446991404, 0.7220630372492837, 0.6819484240687679, 0.664756446991404, 0.0, 0.6876790830945558, 0.6303724928366762]\n"
     ]
    }
   ],
   "source": [
    "labels = []\n",
    "new_data = []\n",
    "\n",
    "for sublist in train:\n",
    "    temp_data = []\n",
    "    for item in sublist:\n",
    "        labels.append(item[-1])\n",
    "        temp_data.append(item[:-2])\n",
    "    new_data.append(temp_data)\n",
    "    \n",
    "print(labels[0])\n",
    "print(new_data[0][0])"
   ]
  },
  {
   "cell_type": "code",
   "execution_count": 8,
   "metadata": {},
   "outputs": [
    {
     "name": "stdout",
     "output_type": "stream",
     "text": [
      "(2800, 100, 30)\n",
      "(2800,)\n"
     ]
    }
   ],
   "source": [
    "y_train = []\n",
    "\n",
    "for i in range(0,len(labels),100):\n",
    "    if labels[i] == 'normal':\n",
    "        y_train.append(0)\n",
    "    else:\n",
    "        y_train.append(1)\n",
    "\n",
    "x_train = new_data\n",
    "\n",
    "print(np.array(x_train).shape)\n",
    "print(np.array(y_train).shape)"
   ]
  },
  {
   "cell_type": "code",
   "execution_count": 9,
   "metadata": {},
   "outputs": [
    {
     "name": "stdout",
     "output_type": "stream",
     "text": [
      "WARNING:tensorflow:Layer lstm will not use cuDNN kernels since it doesn't meet the criteria. It will use a generic GPU kernel as fallback when running on GPU.\n",
      "Model: \"sequential\"\n",
      "_________________________________________________________________\n",
      " Layer (type)                Output Shape              Param #   \n",
      "=================================================================\n",
      " lstm (LSTM)                 (None, 64)                24320     \n",
      "                                                                 \n",
      " dense (Dense)               (None, 64)                4160      \n",
      "                                                                 \n",
      " dropout (Dropout)           (None, 64)                0         \n",
      "                                                                 \n",
      " dense_1 (Dense)             (None, 32)                2080      \n",
      "                                                                 \n",
      " dense_2 (Dense)             (None, 32)                1056      \n",
      "                                                                 \n",
      " dense_3 (Dense)             (None, 16)                528       \n",
      "                                                                 \n",
      " dense_4 (Dense)             (None, 1)                 17        \n",
      "                                                                 \n",
      "=================================================================\n",
      "Total params: 32,161\n",
      "Trainable params: 32,161\n",
      "Non-trainable params: 0\n",
      "_________________________________________________________________\n"
     ]
    }
   ],
   "source": [
    "import numpy as np\n",
    "from tensorflow.keras.models import Sequential\n",
    "from tensorflow.keras.layers import Input, LSTM, Dense, Dropout, Embedding\n",
    "\n",
    "model = Sequential()\n",
    "model.add(LSTM(64, activation='relu', input_shape=(100, 30)))\n",
    "model.add(Dense(64))\n",
    "model.add(Dropout(0.3))\n",
    "model.add(Dense(32))\n",
    "model.add(Dense(32))\n",
    "model.add(Dense(16))\n",
    "model.add(Dense(1,activation='sigmoid'))\n",
    "\n",
    "model.compile(optimizer='adam', loss='binary_crossentropy', metrics=['accuracy'])\n",
    "\n",
    "model.summary()\n"
   ]
  },
  {
   "cell_type": "code",
   "execution_count": 10,
   "metadata": {},
   "outputs": [
    {
     "name": "stdout",
     "output_type": "stream",
     "text": [
      "Epoch 1/30\n",
      "175/175 [==============================] - 18s 95ms/step - loss: 1455969.5000 - accuracy: 0.5954\n",
      "Epoch 2/30\n",
      "175/175 [==============================] - 17s 95ms/step - loss: 5882.0586 - accuracy: 0.6239\n",
      "Epoch 3/30\n",
      "175/175 [==============================] - 17s 96ms/step - loss: 2.9940 - accuracy: 0.6254\n",
      "Epoch 4/30\n",
      "175/175 [==============================] - 16s 90ms/step - loss: 2.3520 - accuracy: 0.6529\n",
      "Epoch 5/30\n",
      "175/175 [==============================] - 16s 94ms/step - loss: 1.9383 - accuracy: 0.6400\n",
      "Epoch 6/30\n",
      "175/175 [==============================] - 16s 94ms/step - loss: 1.4294 - accuracy: 0.6732\n",
      "Epoch 7/30\n",
      "175/175 [==============================] - 15s 88ms/step - loss: 1.1728 - accuracy: 0.6811\n",
      "Epoch 8/30\n",
      "175/175 [==============================] - 17s 97ms/step - loss: 0.9450 - accuracy: 0.7068\n",
      "Epoch 9/30\n",
      "175/175 [==============================] - 17s 96ms/step - loss: 0.8500 - accuracy: 0.7264\n",
      "Epoch 10/30\n",
      "175/175 [==============================] - 16s 93ms/step - loss: 0.8003 - accuracy: 0.7307\n",
      "Epoch 11/30\n",
      "175/175 [==============================] - 16s 89ms/step - loss: 0.7578 - accuracy: 0.7336\n",
      "Epoch 12/30\n",
      "175/175 [==============================] - 15s 88ms/step - loss: 0.6002 - accuracy: 0.7861\n",
      "Epoch 13/30\n",
      "175/175 [==============================] - 16s 90ms/step - loss: 0.5190 - accuracy: 0.8089\n",
      "Epoch 14/30\n",
      "175/175 [==============================] - 17s 95ms/step - loss: 1.8212 - accuracy: 0.7993\n",
      "Epoch 15/30\n",
      "175/175 [==============================] - 17s 95ms/step - loss: 0.6673 - accuracy: 0.7429\n",
      "Epoch 16/30\n",
      "175/175 [==============================] - 17s 94ms/step - loss: 0.6359 - accuracy: 0.7461\n",
      "Epoch 17/30\n",
      "175/175 [==============================] - 17s 94ms/step - loss: 0.6112 - accuracy: 0.7671\n",
      "Epoch 18/30\n",
      "175/175 [==============================] - 18s 100ms/step - loss: 0.5983 - accuracy: 0.7589\n",
      "Epoch 19/30\n",
      "175/175 [==============================] - 18s 101ms/step - loss: 0.5447 - accuracy: 0.7775\n",
      "Epoch 20/30\n",
      "175/175 [==============================] - 16s 92ms/step - loss: 0.5467 - accuracy: 0.7700\n",
      "Epoch 21/30\n",
      "175/175 [==============================] - 16s 92ms/step - loss: 0.5185 - accuracy: 0.7839\n",
      "Epoch 22/30\n",
      "175/175 [==============================] - 16s 91ms/step - loss: 0.5096 - accuracy: 0.7807\n",
      "Epoch 23/30\n",
      "175/175 [==============================] - 16s 91ms/step - loss: 0.5295 - accuracy: 0.7768\n",
      "Epoch 24/30\n",
      "175/175 [==============================] - 16s 89ms/step - loss: 0.5129 - accuracy: 0.7882\n",
      "Epoch 25/30\n",
      "175/175 [==============================] - 16s 93ms/step - loss: 0.4748 - accuracy: 0.7946\n",
      "Epoch 26/30\n",
      "175/175 [==============================] - 16s 94ms/step - loss: 0.5154 - accuracy: 0.7832\n",
      "Epoch 27/30\n",
      "175/175 [==============================] - 16s 91ms/step - loss: 0.4740 - accuracy: 0.8032\n",
      "Epoch 28/30\n",
      "175/175 [==============================] - 18s 102ms/step - loss: 0.4757 - accuracy: 0.8021\n",
      "Epoch 29/30\n",
      "175/175 [==============================] - 18s 101ms/step - loss: 0.4684 - accuracy: 0.8000\n",
      "Epoch 30/30\n",
      "175/175 [==============================] - 17s 95ms/step - loss: 0.4612 - accuracy: 0.8025\n"
     ]
    }
   ],
   "source": [
    "# from tensorflow.keras.callbacks import EarlyStopping\n",
    "# es = EarlyStopping(monitor='loss',\n",
    "#                    min_delta=0,\n",
    "#                    patience=5,\n",
    "#                    verbose=1,\n",
    "#                    restore_best_weights=True)\n",
    "\n",
    "\n",
    "history = model.fit(x_train, y_train, epochs=30, batch_size = 16)"
   ]
  },
  {
   "cell_type": "code",
   "execution_count": 12,
   "metadata": {},
   "outputs": [],
   "source": [
    "model.save('drunk.h5')"
   ]
  },
  {
   "cell_type": "code",
   "execution_count": null,
   "metadata": {},
   "outputs": [],
   "source": []
  }
 ],
 "metadata": {
  "kernelspec": {
   "display_name": "Python 3 (ipykernel)",
   "language": "python",
   "name": "python3"
  },
  "language_info": {
   "codemirror_mode": {
    "name": "ipython",
    "version": 3
   },
   "file_extension": ".py",
   "mimetype": "text/x-python",
   "name": "python",
   "nbconvert_exporter": "python",
   "pygments_lexer": "ipython3",
   "version": "3.9.7"
  }
 },
 "nbformat": 4,
 "nbformat_minor": 2
}
